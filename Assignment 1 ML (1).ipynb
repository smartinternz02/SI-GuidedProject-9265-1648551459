{
 "cells": [
  {
   "cell_type": "code",
   "execution_count": 1,
   "id": "a5892893",
   "metadata": {},
   "outputs": [
    {
     "name": "stdout",
     "output_type": "stream",
     "text": [
      "2401\n"
     ]
    }
   ],
   "source": [
    "# 1.What is 7 to the power of 4?\n",
    "print(7**4)"
   ]
  },
  {
   "cell_type": "code",
   "execution_count": 2,
   "id": "3aeb5730",
   "metadata": {},
   "outputs": [
    {
     "name": "stdout",
     "output_type": "stream",
     "text": [
      "['Hi', 'there', 'Sam!']\n"
     ]
    }
   ],
   "source": [
    "# 2. Split this string\n",
    "s = 'Hi there Sam!'\n",
    "print(s.split())\n"
   ]
  },
  {
   "cell_type": "code",
   "execution_count": 3,
   "id": "dc15d803",
   "metadata": {},
   "outputs": [
    {
     "name": "stdout",
     "output_type": "stream",
     "text": [
      "['Hi', 'there', 'dad!']\n"
     ]
    }
   ],
   "source": [
    "s = 'Hi there dad!'\n",
    "print(s.split())"
   ]
  },
  {
   "cell_type": "code",
   "execution_count": 96,
   "id": "a9c1dffc",
   "metadata": {},
   "outputs": [
    {
     "name": "stdout",
     "output_type": "stream",
     "text": [
      "The diameter of Earth is 12742 kilometers\n"
     ]
    }
   ],
   "source": [
    "# 3.Given the variables\n",
    "planet = 'Earth'\n",
    "diameter = '12742'\n",
    "print('The diameter of {} is {} kilometers'.format(planet,diameter))"
   ]
  },
  {
   "cell_type": "code",
   "execution_count": 6,
   "id": "68faffa4",
   "metadata": {},
   "outputs": [
    {
     "name": "stdout",
     "output_type": "stream",
     "text": [
      "[1, 2, [3, 4], [5, [100, 200, ['hello']], 23, 11], 1, 7]\n",
      "['hello']\n"
     ]
    }
   ],
   "source": [
    "# 4.Given this nested list, use indexing to grab the word hello.\n",
    "lst = lst = [1,2,[3,4],[5,[100,200,['hello']],23,11],1,7]\n",
    "print(lst)\n",
    "print(lst[3][1][2])"
   ]
  },
  {
   "cell_type": "code",
   "execution_count": 32,
   "id": "ca3766a0",
   "metadata": {},
   "outputs": [
    {
     "name": "stdout",
     "output_type": "stream",
     "text": [
      "[1, 2, 3, {'tricky': ['oh', 'man', 'inception', {'target': [1, 2, 3, 'hello']}]}]\n",
      "hello\n"
     ]
    }
   ],
   "source": [
    "# 5.Given this nest dictionary grab the word \\\"hello\\\". Be prepared, this will be annoying/tricky\n",
    "d = {'k1':[1,2,3,{'tricky':['oh','man','inception',{'target':[1,2,3,'hello']}]}]}\n",
    "print(d['k1'])\n",
    "print(d['k1'][3]['tricky'][3]['target'][3])\n",
    "\n",
    "\n"
   ]
  },
  {
   "cell_type": "code",
   "execution_count": null,
   "id": "38feb211",
   "metadata": {},
   "outputs": [],
   "source": [
    "# 6. What is the main difference between a tuple and a list?\n",
    "1.The main differences between list and tuple is\n",
    "**tuple is immutable object and list is mutable object\n",
    "**tuple cannot be changed whereas list can be modified\n",
    "**tuples are most memory efficient than lists\n",
    "**tuples are fixed size\n",
    "**lists are not the fixed size\n",
    "**tuples are have advantage in the time efficient\n"
   ]
  },
  {
   "cell_type": "code",
   "execution_count": 46,
   "id": "36561b5b",
   "metadata": {},
   "outputs": [
    {
     "name": "stdout",
     "output_type": "stream",
     "text": [
      "domain.com\n"
     ]
    }
   ],
   "source": [
    "# 7.Create a function that grabs the email website domain from a string in the form\n",
    "def grab(s):\n",
    "    for i in range(len(s)):\n",
    "        if s[i] == '@':\n",
    "            return s[i+1:]\n",
    "s = 'user@domain.com'\n",
    "print(grab(s))"
   ]
  },
  {
   "cell_type": "code",
   "execution_count": 86,
   "id": "676f4b59",
   "metadata": {},
   "outputs": [
    {
     "name": "stdout",
     "output_type": "stream",
     "text": [
      "True\n"
     ]
    }
   ],
   "source": [
    "# 8.Create a basic function that returns True if the word 'dog' is contained in the input string. Don't worry about edge cases like a punctuation being attached to the word dog, but do account for capitalization.\n",
    "def dog(s):\n",
    "    s1 = ''\n",
    "    s1 = ''\n",
    "    x = ['dog','DOG','Dog']\n",
    "    x1 = s.split()\n",
    "    for i in range(len(x1)):\n",
    "        if x1[i] in x: \n",
    "            return print('True')\n",
    "s = 'dog true'\n",
    "dog(s)\n"
   ]
  },
  {
   "cell_type": "code",
   "execution_count": 94,
   "id": "01f59260",
   "metadata": {},
   "outputs": [
    {
     "data": {
      "text/plain": [
       "3"
      ]
     },
     "execution_count": 94,
     "metadata": {},
     "output_type": "execute_result"
    }
   ],
   "source": [
    "# 9.Create a function that counts the number of times the word \\\"dog\\\" occurs in a string. Again ignore edge cases\n",
    "# if dog in the form of Dog/dog then also we are incrementing the do\n",
    "def count1(s2):\n",
    "    x1 = s2.split()\n",
    "    x2 = ['dog','Dog','DOG']\n",
    "    c2 = 0\n",
    "    for i in range(len(x1)):\n",
    "        if x1[i] in x2:\n",
    "            c2 = c2+1\n",
    "    return c2\n",
    "s2 = 'dog dog dog cat'\n",
    "count1(s2)\n",
    "\n",
    "\n"
   ]
  },
  {
   "cell_type": "code",
   "execution_count": 95,
   "id": "13165b15",
   "metadata": {},
   "outputs": [
    {
     "data": {
      "text/plain": [
       "3"
      ]
     },
     "execution_count": 95,
     "metadata": {},
     "output_type": "execute_result"
    }
   ],
   "source": [
    "def count(s):\n",
    "    x = s.split()\n",
    "    x1 = 'dog'\n",
    "    c = 0\n",
    "    for i in range(len(x)):\n",
    "        if x1 == x[i]:\n",
    "            c = c+1\n",
    "    return c\n",
    "s = 'dog dog dog cat'\n",
    "count(s)"
   ]
  },
  {
   "cell_type": "code",
   "execution_count": 102,
   "id": "3de718b5",
   "metadata": {},
   "outputs": [
    {
     "name": "stdout",
     "output_type": "stream",
     "text": [
      "No Ticket\n"
     ]
    }
   ],
   "source": [
    "def highspead_catching(spead,date):\n",
    "    d = '11-05-1945'\n",
    "    if date == d:\n",
    "        spead = spead + 5\n",
    "        if spead <= 60:\n",
    "            print('No Ticket')\n",
    "        elif spead in range(21,81):\n",
    "            print('Small Ticket')\n",
    "        else:\n",
    "            print('Big Ticket')\n",
    "    else:\n",
    "        if spead <= 60:\n",
    "            print('No Ticket')\n",
    "        elif spead in range(21,81):\n",
    "            print('Small Ticket')\n",
    "        else:\n",
    "            print('Big Ticket')    \n",
    "n = 50\n",
    "date = '11-05-1946'\n",
    "highspead_catching(n,date)"
   ]
  },
  {
   "cell_type": "code",
   "execution_count": null,
   "id": "bf05b248",
   "metadata": {},
   "outputs": [],
   "source": []
  }
 ],
 "metadata": {
  "kernelspec": {
   "display_name": "Python 3 (ipykernel)",
   "language": "python",
   "name": "python3"
  },
  "language_info": {
   "codemirror_mode": {
    "name": "ipython",
    "version": 3
   },
   "file_extension": ".py",
   "mimetype": "text/x-python",
   "name": "python",
   "nbconvert_exporter": "python",
   "pygments_lexer": "ipython3",
   "version": "3.9.7"
  }
 },
 "nbformat": 4,
 "nbformat_minor": 5
}
