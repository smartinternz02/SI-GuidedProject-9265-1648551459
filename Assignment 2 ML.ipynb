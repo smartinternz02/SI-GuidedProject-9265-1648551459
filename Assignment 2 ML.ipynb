{
 "cells": [
  {
   "cell_type": "code",
   "execution_count": 36,
   "id": "7545cc35",
   "metadata": {},
   "outputs": [
    {
     "name": "stdout",
     "output_type": "stream",
     "text": [
      "[0 0 0 0 0 0 0 0 0 0]\n",
      "1.20.3\n"
     ]
    }
   ],
   "source": [
    "# 1.Create an array of 10 zeros\n",
    "from numpy import*\n",
    "a = array((0,0,0,0,0,0,0,0,0,0)) # one dimensional array\n",
    "print(a)\n",
    "print(np.__version__)"
   ]
  },
  {
   "cell_type": "code",
   "execution_count": 11,
   "id": "bcc2bc88",
   "metadata": {},
   "outputs": [
    {
     "name": "stdout",
     "output_type": "stream",
     "text": [
      "[1 1 1 1 1 1 1 1 1 1]\n"
     ]
    }
   ],
   "source": [
    "# 2.Create an array of 10 ones\n",
    "a = np.array([1,1,1,1,1,1,1,1,1,1]) # one dimensional array\n",
    "print(a)"
   ]
  },
  {
   "cell_type": "code",
   "execution_count": 12,
   "id": "51410c41",
   "metadata": {},
   "outputs": [
    {
     "name": "stdout",
     "output_type": "stream",
     "text": [
      "[5 5 5 5 5 5 5 5 5 5]\n"
     ]
    }
   ],
   "source": [
    "# 3.Create an array of 10 fives\n",
    "a = np.array([5,5,5,5,5,5,5,5,5,5]) # one dimensional array\n",
    "print(a)"
   ]
  },
  {
   "cell_type": "code",
   "execution_count": 31,
   "id": "ba35ba88",
   "metadata": {},
   "outputs": [
    {
     "name": "stdout",
     "output_type": "stream",
     "text": [
      "[10 11 12 13 14 15 16 17 18 19 20 21 22 23 24 25 26 27 28 29 30 31 32 33\n",
      " 34 35 36 37 38 39 40 41 42 43 44 45 46 47 48 49 50]\n"
     ]
    }
   ],
   "source": [
    "#4.Create an array of the integers from 10 to 50\n",
    "arr = np.arange(10,51)\n",
    "print(arr)"
   ]
  },
  {
   "cell_type": "code",
   "execution_count": 32,
   "id": "bbc46942",
   "metadata": {},
   "outputs": [
    {
     "data": {
      "text/plain": [
       "array([ 0,  2,  4,  6,  8, 10, 12, 14, 16, 18, 20, 22, 24, 26, 28, 30, 32,\n",
       "       34, 36, 38, 40, 42, 44, 46, 48, 50])"
      ]
     },
     "execution_count": 32,
     "metadata": {},
     "output_type": "execute_result"
    }
   ],
   "source": [
    "# 5.Create an array of all the even integers from 10 to 50\n",
    "arr = np.arange(0,51,2)\n",
    "arr"
   ]
  },
  {
   "cell_type": "code",
   "execution_count": 57,
   "id": "ef79abe6",
   "metadata": {},
   "outputs": [
    {
     "name": "stdout",
     "output_type": "stream",
     "text": [
      "[[0 1 2]\n",
      " [3 4 5]\n",
      " [6 7 8]]\n"
     ]
    }
   ],
   "source": [
    "# 6.Create a 3x3 matrix with values ranging from 0 to 8\n",
    "import numpy as np\n",
    "arr = np.array([[0,1,2],[3,4,5],[6,7,8]])\n",
    "print(arr)\n"
   ]
  },
  {
   "cell_type": "code",
   "execution_count": 59,
   "id": "322ee8f5",
   "metadata": {},
   "outputs": [
    {
     "name": "stdout",
     "output_type": "stream",
     "text": [
      "[[1 0 0]\n",
      " [0 1 0]\n",
      " [0 0 1]]\n"
     ]
    }
   ],
   "source": [
    "#7.Create a 3x3 identity matrix\n",
    "import numpy as np\n",
    "arr = np.array([[1,0,0],[0,1,0],[0,0,1]])\n",
    "print(arr)\n"
   ]
  },
  {
   "cell_type": "code",
   "execution_count": 98,
   "id": "1f3797f7",
   "metadata": {},
   "outputs": [
    {
     "name": "stdout",
     "output_type": "stream",
     "text": [
      "0.4675417462407938\n"
     ]
    }
   ],
   "source": [
    "# 8.Use NumPy to generate a random number between 0 and 1\n",
    "from numpy import random\n",
    "x = random.rand()\n",
    "print(x)"
   ]
  },
  {
   "cell_type": "code",
   "execution_count": 104,
   "id": "9f5fc0b0",
   "metadata": {},
   "outputs": [
    {
     "name": "stdout",
     "output_type": "stream",
     "text": [
      "[ 0.47138048  0.16518388  0.01169535 -1.22741234  1.21789285 -2.05500696\n",
      " -1.07860648  0.41668808 -2.33931564  0.0280904  -0.01684968  0.41129736\n",
      " -1.55465465  0.8218987  -1.5251645  -0.02948747  1.03930804 -2.10998469\n",
      "  2.35492574  1.77311653  0.57825685  1.20082037 -0.6953672  -1.01119891\n",
      " -0.38210694]\n"
     ]
    }
   ],
   "source": [
    "# 9.Use NumPy to generate an array of 25 random numbers sampled from a standard normal distribution\n",
    "rand_num = np.random.normal(0,1,25)\n",
    "print(rand_num)\n"
   ]
  },
  {
   "cell_type": "code",
   "execution_count": 118,
   "id": "96b63ad1",
   "metadata": {},
   "outputs": [
    {
     "name": "stdout",
     "output_type": "stream",
     "text": [
      "[0.   0.01 0.02 0.03 0.04 0.05 0.06 0.07 0.08 0.09 0.1  0.11 0.12 0.13\n",
      " 0.14 0.15 0.16 0.17 0.18 0.19 0.2  0.21 0.22 0.23 0.24 0.25 0.26 0.27\n",
      " 0.28 0.29 0.3  0.31 0.32 0.33 0.34 0.35 0.36 0.37 0.38 0.39 0.4  0.41\n",
      " 0.42 0.43 0.44 0.45 0.46 0.47 0.48 0.49 0.5  0.51 0.52 0.53 0.54 0.55\n",
      " 0.56 0.57 0.58 0.59 0.6  0.61 0.62 0.63 0.64 0.65 0.66 0.67 0.68 0.69\n",
      " 0.7  0.71 0.72 0.73 0.74 0.75 0.76 0.77 0.78 0.79 0.8  0.81 0.82 0.83\n",
      " 0.84 0.85 0.86 0.87 0.88 0.89 0.9  0.91 0.92 0.93 0.94 0.95 0.96 0.97\n",
      " 0.98 0.99 1.  ]\n"
     ]
    }
   ],
   "source": [
    "# 10.Create the following matrix\n",
    "arr = np.arange(0,1+0.01,0.01)\n",
    "print(arr)"
   ]
  },
  {
   "cell_type": "code",
   "execution_count": 119,
   "id": "b8c61091",
   "metadata": {},
   "outputs": [
    {
     "name": "stdout",
     "output_type": "stream",
     "text": [
      "[0.         0.05263158 0.10526316 0.15789474 0.21052632 0.26315789\n",
      " 0.31578947 0.36842105 0.42105263 0.47368421 0.52631579 0.57894737\n",
      " 0.63157895 0.68421053 0.73684211 0.78947368 0.84210526 0.89473684\n",
      " 0.94736842 1.        ]\n"
     ]
    }
   ],
   "source": [
    "# 11.Create an array of 20 linearly spaced points between 0 and 1\n",
    "num_line = np.linspace(0,1,20)\n",
    "print(num_line)"
   ]
  },
  {
   "cell_type": "code",
   "execution_count": 120,
   "id": "b7b2db15",
   "metadata": {},
   "outputs": [
    {
     "data": {
      "text/plain": [
       "array([[ 1,  2,  3,  4,  5],\n",
       "       [ 6,  7,  8,  9, 10],\n",
       "       [11, 12, 13, 14, 15],\n",
       "       [16, 17, 18, 19, 20],\n",
       "       [21, 22, 23, 24, 25]])"
      ]
     },
     "execution_count": 120,
     "metadata": {},
     "output_type": "execute_result"
    }
   ],
   "source": [
    "# 12.Now you will be given a few matrices, and be asked to replicate the resulting matrix outputs\n",
    "n = np.arange(1,26).reshape(5,5)\n",
    "n"
   ]
  },
  {
   "cell_type": "code",
   "execution_count": 153,
   "id": "f951f1db",
   "metadata": {},
   "outputs": [
    {
     "name": "stdout",
     "output_type": "stream",
     "text": [
      "<class 'numpy.ndarray'>\n",
      "<class 'list'>\n",
      "[12, 13, 14, 15, 17, 18, 19, 20, 22, 23, 24, 25]\n",
      "[[12 13 14 15]\n",
      " [17 18 19 20]\n",
      " [22 23 24 25]]\n"
     ]
    }
   ],
   "source": [
    "# 13.\n",
    "l = np.arange(12,26)\n",
    "l1 = l.tolist()\n",
    "l2 = []\n",
    "print(type(l))\n",
    "print(type(l1))\n",
    "for i in l1:\n",
    "    if i != 16 and i != 21:\n",
    "        l2.append(i)\n",
    "print(l2)\n",
    "a = np.array(l2)\n",
    "print(a.reshape(3,4))"
   ]
  },
  {
   "cell_type": "code",
   "execution_count": 154,
   "id": "7919634b",
   "metadata": {},
   "outputs": [
    {
     "name": "stdout",
     "output_type": "stream",
     "text": [
      "[[[ 2]\n",
      "  [ 7]\n",
      "  [12]]]\n"
     ]
    }
   ],
   "source": [
    "# 14.\n",
    "x = np.array([[[2],[7],[12]]])\n",
    "print(x)"
   ]
  },
  {
   "cell_type": "code",
   "execution_count": 155,
   "id": "6d473e28",
   "metadata": {},
   "outputs": [
    {
     "name": "stdout",
     "output_type": "stream",
     "text": [
      "[21 22 23 24 25]\n"
     ]
    }
   ],
   "source": [
    "#15.\n",
    "x1 = np.arange(21,26)\n",
    "print(x1)"
   ]
  },
  {
   "cell_type": "code",
   "execution_count": 157,
   "id": "36f35af4",
   "metadata": {},
   "outputs": [
    {
     "name": "stdout",
     "output_type": "stream",
     "text": [
      "[[16 17 18 19 20]\n",
      " [21 22 23 24 25]]\n"
     ]
    }
   ],
   "source": [
    "# 16.\n",
    "s = np.arange(16,26).reshape(2,5)\n",
    "print(s)"
   ]
  },
  {
   "cell_type": "code",
   "execution_count": 11,
   "id": "5b300f78",
   "metadata": {},
   "outputs": [
    {
     "name": "stdout",
     "output_type": "stream",
     "text": [
      "325\n",
      "13\n",
      "7.3484692283495345\n"
     ]
    }
   ],
   "source": [
    "# 17.Get the sum of all the values in matrix in python\n",
    "import numpy as np\n",
    "s = np.arange(1,26)\n",
    "s1 = s.tolist()\n",
    "sum1 = 0\n",
    "sum = 0\n",
    "c = 0\n",
    "x1 = []\n",
    "x2 = 0\n",
    "for i in range(len(s1)):\n",
    "    c = c+1\n",
    "    sum = sum+s1[i]\n",
    "x = sum//c\n",
    "print(sum)\n",
    "print(x)\n",
    "for i in s1:\n",
    "    sum1 = (i-x)**2\n",
    "    x1.append(sum1)\n",
    "for i in x1:\n",
    "    x2 = x2+i\n",
    "l = x2//(c-1)\n",
    "print(l**0.5)   "
   ]
  },
  {
   "cell_type": "code",
   "execution_count": 31,
   "id": "79dfcf25",
   "metadata": {},
   "outputs": [
    {
     "name": "stdout",
     "output_type": "stream",
     "text": [
      "[55, 60, 65, 70, 75]\n",
      "[55 60 65 70 75]\n",
      "<class 'numpy.ndarray'>\n"
     ]
    }
   ],
   "source": [
    "# 18.sum of all the columns in the matrix\n",
    "import numpy as np\n",
    "x = np.arange(1,26).reshape(5,5)\n",
    "x2 = []\n",
    "n = 0\n",
    "for i in range(5):\n",
    "    sum = 0\n",
    "    x1 = x[:,i]\n",
    "    for i in x1:\n",
    "        sum = sum+i\n",
    "    x2.append(sum)\n",
    "print(x2)\n",
    "x3 = np.array(x2)\n",
    "print(x3)\n",
    "print(type(x3))"
   ]
  }
 ],
 "metadata": {
  "kernelspec": {
   "display_name": "Python 3 (ipykernel)",
   "language": "python",
   "name": "python3"
  },
  "language_info": {
   "codemirror_mode": {
    "name": "ipython",
    "version": 3
   },
   "file_extension": ".py",
   "mimetype": "text/x-python",
   "name": "python",
   "nbconvert_exporter": "python",
   "pygments_lexer": "ipython3",
   "version": "3.9.7"
  }
 },
 "nbformat": 4,
 "nbformat_minor": 5
}
